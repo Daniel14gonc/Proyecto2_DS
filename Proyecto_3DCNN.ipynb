{
 "cells": [
  {
   "cell_type": "markdown",
   "metadata": {},
   "source": [
    "# Proyecto - 3DCNN"
   ]
  },
  {
   "cell_type": "code",
   "execution_count": 11,
   "metadata": {},
   "outputs": [],
   "source": [
    "import torch\n",
    "import torch.nn as nn\n",
    "import torch.optim as optim\n",
    "import torchvision\n",
    "import torchvision.transforms as transforms\n",
    "import numpy as np\n",
    "import pandas as pd\n",
    "import os\n",
    "from sklearn.metrics import precision_score, f1_score"
   ]
  },
  {
   "cell_type": "code",
   "execution_count": 12,
   "metadata": {},
   "outputs": [],
   "source": [
    "class WeightedMultiLabelLogLoss(nn.Module):\n",
    "    def __init__(self, weight=None):\n",
    "        super(WeightedMultiLabelLogLoss, self).__init__()\n",
    "        self.weight = weight\n",
    "\n",
    "    def forward(self, input, target):\n",
    "        \"\"\"\n",
    "        Computes the weighted multi-label logarithmic loss.\n",
    "\n",
    "        Args:\n",
    "            input (torch.Tensor): Predicted probabilities (output of the model).\n",
    "                                Shape: (batch_size, num_classes)\n",
    "            target (torch.Tensor): Target labels (ground truth).\n",
    "                                Shape: (batch_size, num_classes)\n",
    "\n",
    "        Returns:\n",
    "            loss (torch.Tensor): Weighted multi-label logarithmic loss.\n",
    "        \"\"\"\n",
    "        epsilon = 1e-15  # Small constant to avoid log(0)\n",
    "\n",
    "        # Log loss\n",
    "        log_loss = -target * torch.log(input + epsilon) - (1 - target) * torch.log(1 - input + epsilon)\n",
    "\n",
    "        # Apply weights if provided\n",
    "        if self.weight is not None:\n",
    "            log_loss = log_loss * self.weight\n",
    "\n",
    "        # Compute mean loss over samples and classes\n",
    "        loss = log_loss.mean()\n",
    "\n",
    "        return loss"
   ]
  },
  {
   "cell_type": "code",
   "execution_count": 13,
   "metadata": {},
   "outputs": [],
   "source": [
    "class Simple3DCNN(nn.Module):\n",
    "    def __init__(self, num_classes):\n",
    "        super(Simple3DCNN, self).__init__()\n",
    "        \n",
    "        # Capa 3D Conv1\n",
    "        self.conv1 = nn.Conv3d(in_channels=1, out_channels=32, kernel_size=3, padding=1)\n",
    "        self.relu1 = nn.ReLU()\n",
    "        self.pool1 = nn.MaxPool3d(kernel_size=2, stride=2)\n",
    "        \n",
    "        # Capa 3D Conv2\n",
    "        self.conv2 = nn.Conv3d(in_channels=32, out_channels=64, kernel_size=3, padding=1)\n",
    "        self.relu2 = nn.ReLU()\n",
    "        self.pool2 = nn.MaxPool3d(kernel_size=2, stride=2)\n",
    "        \n",
    "        #Forzar dimensionalidad\n",
    "        self.fce = nn.Linear(64 * 75, 1)\n",
    "        \n",
    "        # Capa completamente conectada\n",
    "        self.fc1 = nn.Linear(64 * 4 * 4 * 4, 128)\n",
    "        self.relu3 = nn.ReLU()\n",
    "        self.fc2 = nn.Linear(128, 7)\n",
    "        \n",
    "        self.softmax = nn.Softmax(dim=1)\n",
    "        \n",
    "        \n",
    "    def forward(self, x):\n",
    "        x = self.conv1(x)\n",
    "        x = self.relu1(x)\n",
    "        x = self.pool1(x)\n",
    "        x = self.conv2(x)\n",
    "        x = self.relu2(x)\n",
    "        x = self.pool2(x)\n",
    "        \n",
    "        # forzar dimensionalidad\n",
    "        x = x.view(-1, 64 * 75)\n",
    "        x = self.fce(x)\n",
    "        \n",
    "        x = x.view(-1, 64 * 4 * 4 * 4)        \n",
    "        x = self.fc1(x)\n",
    "        x = self.relu3(x)\n",
    "        x = self.fc2(x)\n",
    "        \n",
    "        x = self.softmax(x)\n",
    "        \n",
    "        return x\n",
    "\n",
    "# # Crear una instancia del modelo\n",
    "# num_classes = 7  # Número de clases de salida\n",
    "# model = Simple3DCNN(num_classes)\n",
    "\n",
    "# # Imprimir el modelo para ver su estructura\n",
    "# print(model)\n"
   ]
  },
  {
   "cell_type": "code",
   "execution_count": 14,
   "metadata": {},
   "outputs": [
    {
     "data": {
      "text/plain": [
       "(256, 256, 300)"
      ]
     },
     "execution_count": 14,
     "metadata": {},
     "output_type": "execute_result"
    }
   ],
   "source": [
    "first_object = np.load('volumes/1.2.826.0.1.3680043.1010.npy')\n",
    "\n",
    "first_object.shape"
   ]
  },
  {
   "cell_type": "code",
   "execution_count": 15,
   "metadata": {},
   "outputs": [],
   "source": [
    "#Cargar datos \n",
    "\n",
    "class ImageDataGenerator:\n",
    "    def __init__(self, volumes_ruta,ruta_csv, max_UID):\n",
    "        self.volumes_ruta = volumes_ruta\n",
    "        self.max_UID = max_UID\n",
    "        self.current_UID = 1\n",
    "        self.names = []\n",
    "        self.df = pd.read_csv(ruta_csv)\n",
    "        self.read_volumes_path()\n",
    "        \n",
    "    def read_volumes_path(self):\n",
    "        ruta_carpeta = self.volumes_ruta\n",
    "        if os.path.exists(ruta_carpeta) and os.path.isdir(ruta_carpeta):\n",
    "            objetos = os.listdir(ruta_carpeta)\n",
    "            for objeto in objetos:\n",
    "                objeto_ruta = os.path.join(ruta_carpeta, objeto)\n",
    "                self.names.append(objeto_ruta)\n",
    "                \n",
    "        \n",
    "    def get_next_ruta(self):\n",
    "        next_name = self.names[self.current_UID]\n",
    "        self.current_UID += 1\n",
    "        return next_name\n",
    "        \n",
    "    def __iter__(self):\n",
    "        return self\n",
    "    \n",
    "    def __next__(self):\n",
    "        if self.current_UID >= self.max_UID:\n",
    "            print(\"No hay mas datos\")\n",
    "            raise StopIteration()\n",
    "        else:\n",
    "            # Cargar el volumen\n",
    "            name = self.get_next_ruta()\n",
    "            volume = np.load(name)\n",
    "            #volume.resize((256, 256, 256))\n",
    "            #label = [float(value) for value in self.df.iloc[self.current_UID][['C1', 'C2', 'C3', 'C4', 'C5', 'C6', 'C7']].tolist()]\n",
    "            label = self.df.iloc[self.current_UID][['C1', 'C2', 'C3', 'C4', 'C5', 'C6', 'C7']].tolist()\n",
    "            # Incrementar el UID\n",
    "            \n",
    "            # Devolver el volumen\n",
    "            return volume, label"
   ]
  },
  {
   "cell_type": "code",
   "execution_count": 16,
   "metadata": {},
   "outputs": [],
   "source": [
    "num_classes = 7\n",
    "model3D = Simple3DCNN(num_classes)"
   ]
  },
  {
   "cell_type": "code",
   "execution_count": 17,
   "metadata": {},
   "outputs": [
    {
     "name": "stdout",
     "output_type": "stream",
     "text": [
      "GPU está disponible\n"
     ]
    }
   ],
   "source": [
    "if torch.cuda.is_available():\n",
    "    print('GPU está disponible')\n",
    "else:\n",
    "    print('No se encontró GPU, usando CPU')"
   ]
  },
  {
   "cell_type": "code",
   "execution_count": 18,
   "metadata": {},
   "outputs": [
    {
     "data": {
      "text/plain": [
       "Simple3DCNN(\n",
       "  (conv1): Conv3d(1, 32, kernel_size=(3, 3, 3), stride=(1, 1, 1), padding=(1, 1, 1))\n",
       "  (relu1): ReLU()\n",
       "  (pool1): MaxPool3d(kernel_size=2, stride=2, padding=0, dilation=1, ceil_mode=False)\n",
       "  (conv2): Conv3d(32, 64, kernel_size=(3, 3, 3), stride=(1, 1, 1), padding=(1, 1, 1))\n",
       "  (relu2): ReLU()\n",
       "  (pool2): MaxPool3d(kernel_size=2, stride=2, padding=0, dilation=1, ceil_mode=False)\n",
       "  (fce): Linear(in_features=4800, out_features=1, bias=True)\n",
       "  (fc1): Linear(in_features=4096, out_features=128, bias=True)\n",
       "  (relu3): ReLU()\n",
       "  (fc2): Linear(in_features=128, out_features=7, bias=True)\n",
       "  (softmax): Softmax(dim=1)\n",
       ")"
      ]
     },
     "execution_count": 18,
     "metadata": {},
     "output_type": "execute_result"
    }
   ],
   "source": [
    "model3D.to('cuda')"
   ]
  },
  {
   "cell_type": "code",
   "execution_count": 19,
   "metadata": {},
   "outputs": [],
   "source": [
    "data_gen = ImageDataGenerator('volumes', 'train_filtrado.csv', 5)"
   ]
  },
  {
   "cell_type": "code",
   "execution_count": 20,
   "metadata": {},
   "outputs": [
    {
     "name": "stdout",
     "output_type": "stream",
     "text": [
      "[0, 1, 0, 0, 0, 0, 0] [0. 0. 0. 0. 0. 0. 0.]\n"
     ]
    },
    {
     "name": "stderr",
     "output_type": "stream",
     "text": [
      "c:\\Users\\Daniel\\Main\\UVG\\Semestre VIII\\Data science\\Proyecto2\\myenv\\lib\\site-packages\\sklearn\\metrics\\_classification.py:1469: UndefinedMetricWarning: Precision is ill-defined and being set to 0.0 in labels with no predicted samples. Use `zero_division` parameter to control this behavior.\n",
      "  _warn_prf(average, modifier, msg_start, len(result))\n"
     ]
    },
    {
     "name": "stdout",
     "output_type": "stream",
     "text": [
      "Loss:  0.41953107714653015\n",
      "Accuracy:  0.8571428571428571\n",
      "F1 0.7912087912087912\n"
     ]
    }
   ],
   "source": [
    "learning_rate = 1e-3\n",
    "num_epochs = 1\n",
    "\n",
    "criterion = WeightedMultiLabelLogLoss()\n",
    "optimizer = optim.Adam(model3D.parameters(), lr=learning_rate)\n",
    "\n",
    "\n",
    "model3D.train()\n",
    "\n",
    "for i, (volume, label) in enumerate(data_gen):\n",
    "    \n",
    "    image_tensor = torch.from_numpy(volume).unsqueeze(0).float().to('cuda')\n",
    "    label_tensor = torch.tensor(label).unsqueeze(0).float().to('cuda')\n",
    "    \n",
    "    \n",
    "    predictions = model3D(image_tensor)\n",
    "    threshold = 0.5\n",
    "    predicted_labels = (predictions > threshold).float()  # 1 si es mayor al umbral, 0 de lo contrario\n",
    "    predicted_labels_np = predicted_labels.cpu().numpy()[0]\n",
    "    \n",
    "    accuracy_per_class = (predicted_labels_np == label).mean(axis=0)\n",
    "\n",
    "    # Calcular la precisión global (promedio de la precisión por clase)\n",
    "    number_of_1 = np.count_nonzero(label)\n",
    "    intersection = np.logical_and(predicted_labels_np, label)\n",
    "    # intersection_1 = count_nonzero(intersection)countc.pn\n",
    "    accuracy = accuracy_per_class.mean()\n",
    "    print(label, predicted_labels_np)\n",
    "    weighted_precision = precision_score(label, predicted_labels_np, average='weighted')\n",
    "\n",
    "    # Calcular el F1-score ponderado\n",
    "    weighted_f1_score = f1_score(label, predicted_labels_np, average='weighted')\n",
    "\n",
    "    #print(\"->\",predictions)\n",
    "    #print(\"Shape ->\",predictions.shape)\n",
    "    #print(\"-->\",label_tensor)\n",
    "    loss = criterion(predictions, label_tensor)\n",
    "    \n",
    "    optimizer.zero_grad()\n",
    "    loss.backward()\n",
    "    optimizer.step()\n",
    "    \n",
    "    print('Loss: ', loss.item())\n",
    "    print('Accuracy: ', accuracy)\n",
    "    print('F1', weighted_f1_score)\n",
    "    \n",
    "    "
   ]
  },
  {
   "cell_type": "code",
   "execution_count": null,
   "metadata": {},
   "outputs": [],
   "source": []
  }
 ],
 "metadata": {
  "kernelspec": {
   "display_name": "myenv",
   "language": "python",
   "name": "python3"
  },
  "language_info": {
   "codemirror_mode": {
    "name": "ipython",
    "version": 3
   },
   "file_extension": ".py",
   "mimetype": "text/x-python",
   "name": "python",
   "nbconvert_exporter": "python",
   "pygments_lexer": "ipython3",
   "version": "3.10.11"
  }
 },
 "nbformat": 4,
 "nbformat_minor": 2
}
